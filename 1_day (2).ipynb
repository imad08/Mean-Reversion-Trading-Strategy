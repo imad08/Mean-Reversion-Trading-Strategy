{
  "nbformat": 4,
  "nbformat_minor": 0,
  "metadata": {
    "kernelspec": {
      "display_name": "Python 3",
      "language": "python",
      "name": "python3"
    },
    "language_info": {
      "codemirror_mode": {
        "name": "ipython",
        "version": 3
      },
      "file_extension": ".py",
      "mimetype": "text/x-python",
      "name": "python",
      "nbconvert_exporter": "python",
      "pygments_lexer": "ipython3",
      "version": "3.7.6"
    },
    "colab": {
      "name": "1_day.ipynb",
      "provenance": []
    }
  },
  "cells": [
    {
      "cell_type": "code",
      "metadata": {
        "id": "JkXo5IGbaOBo"
      },
      "source": [
        "import pandas as pd\n",
        "import numpy as np\n",
        "stocklist = pd.read_csv('selected_stocks.csv', index_col = 0)\n",
        "stocklist = stocklist['stock_name']"
      ],
      "execution_count": null,
      "outputs": []
    },
    {
      "cell_type": "code",
      "metadata": {
        "id": "2CS7DcdoaOBr",
        "outputId": "86153a23-8456-451c-86de-ec998c276e12"
      },
      "source": [
        "\n",
        "\n",
        "\n",
        "df = pd.DataFrame(columns= ['stockname', 'avg_profit', 'num_trades'])\n",
        "\n",
        "for stockname in stocklist:\n",
        "    df_all = pd.read_csv(stockname+\".csv\", names=('Dates', 'stockVWAP', 'futureVWAP', 'bidPrice', 'askPrice', 'total_value', 'total_size'))\n",
        "    df_train = df_all[:60000]\n",
        "    df_train_for_5min = df_train[df_train.index%5 == 0]\n",
        "    df_train_for_5min = df_train_for_5min.reset_index(drop = True)\n",
        "    df_final = df_train_for_5min\n",
        "    \n",
        "    spread = df_final['askPrice'].max() - df_final['bidPrice'].max()\n",
        "    \n",
        "    data = np.array([])\n",
        "    for i in range(224):\n",
        "        data = np.append(data, df_final.iloc[i,1] ) \n",
        "    for i in range(224, 12000):\n",
        "        data = np.append(data, np.mean(df_final.iloc[i-224:i+1])) \n",
        "        \n",
        "    df_new = pd.DataFrame(data)\n",
        "    \n",
        "    no_of_trades = 0\n",
        "    dev_sum = 0\n",
        "        \n",
        "    for i in range(12000):\n",
        "        dev = df_final.loc[i,'stockVWAP'] - 0.2 - spread - df_new.loc[i,0]\n",
        "        if dev > 0:\n",
        "            no_of_trades = no_of_trades + 1\n",
        "            dev_sum = dev + dev_sum\n",
        "    \n",
        "    if no_of_trades != 0:\n",
        "        dev_mean = dev_sum/no_of_trades\n",
        "        Total_Profit = dev_sum\n",
        "    \n",
        "\n",
        "    \n",
        "    if no_of_trades == 0:\n",
        "        Total_Profit = 0\n",
        "        dev_mean = 0\n",
        "\n",
        "    s = pd.Series([stockname, dev_mean, no_of_trades],index= ['stockname', 'avg_profit', 'num_trades'])\n",
        "    df = df.append(s,ignore_index=True)\n",
        "    \n",
        "    print(stockname + \":\" + str(dev_mean) + \":\" + str(no_of_trades))\n",
        "df.to_csv(\"profits_1d.csv\")"
      ],
      "execution_count": null,
      "outputs": [
        {
          "output_type": "stream",
          "text": [
            "JPASSOCIAT:4.651099986857432:7329\n",
            "GMRINFRA:3.389500674352329:6885\n",
            "SUZLON:6.234735030701804:7216\n",
            "IBREALEST:78.52379246052685:6497\n",
            "RELCAPITAL:144.4025507464461:7833\n",
            "DLF:35.88353652110316:7850\n",
            "IDFC:1.9801560163018281:3645\n",
            "SOUTHBANK:3.9946956813730825:6030\n",
            "IDFCBANK:1.4250626298199116:2253\n",
            "BANKBARODA:14.975652039043752:5600\n",
            "MANAPPURAM:35.297644010784694:7382\n",
            "HINDALCO:19.42973046850244:7556\n",
            "TATASTEEL:59.80154692465105:6853\n",
            "JINDALSTEL:35.730307865428806:7849\n",
            "RCOM:3.287328825716614:3182\n",
            "HDIL:17.596328681077303:6429\n",
            "L&TFH:33.37952421577166:7848\n",
            "NMDC:7.422734345268343:1963\n",
            "ADANIPOWER:3.074919442532297:3221\n",
            "HCC:27.014557556961687:2995\n",
            "ICICIBANK:20.871282658260306:7574\n",
            "SUNTV:212.52666285054613:7277\n",
            "RELINFRA:53.59625240797705:4692\n",
            "PNB:19.099260112269434:6693\n",
            "JSWSTEEL:17.08395831189277:4781\n",
            "APOLLOTYRE:53.38438863988862:5807\n",
            "MOTHERSUMI:58.147071033672695:5729\n",
            "RECLTD:35.121551686226354:7825\n",
            "ONGC:3.4026368635468414:758\n",
            "RPOWER:2.3295578956650056:4379\n",
            "IDEA:20.58818173277072:4374\n",
            "JSWENERGY:2.9574647678278456:5184\n",
            "IFCI:1.8268520128842065:3552\n",
            "DHFL:112.15657229260769:7833\n",
            "TV18BRDCST:2.805548997421587:4984\n",
            "CANBK:41.27335097515828:7849\n",
            "BANKINDIA:23.727713878168846:7849\n",
            "ORIENTBANK:24.291350706564725:7133\n",
            "PFC:12.536443964147955:4543\n",
            "EXIDEIND:26.320576008876802:6974\n",
            "NCC:7.232326808932145:4745\n",
            "KTKBANK:30.760092393064852:7285\n",
            "BHARATFIN:108.01053979122369:5627\n",
            "M&MFIN:52.082199085004255:7377\n",
            "GRASIM:192.4453473983234:7298\n",
            "NATIONALUM:36.471586779416775:3953\n",
            "AXISBANK:33.70739172572259:7328\n",
            "UNIONBANK:17.173807612268277:6337\n",
            "AUROPHARMA:32.11111399550384:2597\n",
            "INFIBEAM:582.2380683887758:4582\n",
            "BEL:71.3204853128397:1863\n",
            "FORTIS:94.92708185218301:4097\n",
            "ALBK:6.777088866837249:6455\n",
            "HINDPETRO:40.78006546050428:5344\n",
            "MRPL:52.059583820124224:5962\n",
            "TATAPOWER:3.9600005851815543:6014\n",
            "PTC:12.945542333756594:7846\n",
            "NHPC:2.1822506397694683:6071\n",
            "NTPC:6.3285343213073455:1681\n",
            "IOC:38.52158858314612:7231\n",
            "BPCL:36.34997253611664:3969\n",
            "INFY:35.744887308639605:4998\n",
            "RELIANCE:350.44552227919934:6398\n",
            "DISHTV:9.929428419215359:4165\n",
            "JUSTDIAL:109.66545136566766:5642\n",
            "ITC:25.61208950049953:7567\n",
            "SYNDIBANK:7.916485961052957:6799\n",
            "TATAMTRDVR:13.569588418702638:1161\n",
            "CESC:159.30261622121157:7738\n",
            "GAIL:43.84318090130339:1973\n",
            "JISLJALEQS:6.948809903963806:5869\n",
            "COALINDIA:11.239972066006226:1959\n",
            "PCJEWELLER:63.09799791590384:4068\n",
            "ANDHRABANK:7.370464721945555:6718\n",
            "CGPOWER:80.79844063228595:8623\n",
            "POWERGRID:10.168147443020246:5794\n",
            "GSFC:41.538667420840675:7559\n",
            "AMBUJACEM:22.369714464119046:7453\n",
            "ADANIPORTS:44.96075066512225:7818\n",
            "SREINFRA:39.58573804833675:7195\n",
            "EQUITAS:71.25805418715585:5132\n",
            "IRB:19.47180709031113:5065\n",
            "DCBBANK:50.894833671398196:7835\n",
            "YESBANK:182.15965228253012:7845\n",
            "TVSMOTOR:106.73142493127605:7634\n",
            "RDEL:22.516771804962566:5923\n",
            "KOTAKBANK:147.15738157958015:7741\n",
            "SRTRANSFIN:55.66649434777251:6696\n",
            "UJJIVAN:187.72223202138096:4848\n",
            "PETRONET:44.810196939692425:5254\n",
            "BALRAMCHIN:47.87660532600077:7750\n",
            "BHARTIARTL:39.79172100221093:7680\n",
            "HDFCBANK:270.93116513171134:5819\n"
          ],
          "name": "stdout"
        }
      ]
    },
    {
      "cell_type": "code",
      "metadata": {
        "id": "HAdzqHUtaOBs"
      },
      "source": [
        ""
      ],
      "execution_count": null,
      "outputs": []
    },
    {
      "cell_type": "code",
      "metadata": {
        "id": "0m00wZAraOBs"
      },
      "source": [
        ""
      ],
      "execution_count": null,
      "outputs": []
    }
  ]
}
{
  "nbformat": 4,
  "nbformat_minor": 0,
  "metadata": {
    "kernelspec": {
      "display_name": "Python 3",
      "language": "python",
      "name": "python3"
    },
    "language_info": {
      "codemirror_mode": {
        "name": "ipython",
        "version": 3
      },
      "file_extension": ".py",
      "mimetype": "text/x-python",
      "name": "python",
      "nbconvert_exporter": "python",
      "pygments_lexer": "ipython3",
      "version": "3.7.6"
    },
    "colab": {
      "name": "5days_ .ipynb",
      "provenance": []
    }
  },
  "cells": [
    {
      "cell_type": "code",
      "metadata": {
        "id": "A6kEfMJgaPEp"
      },
      "source": [
        "import pandas as pd\n",
        "import numpy as np\n",
        "stocklist = pd.read_csv('selected_stocks.csv', index_col = 0)\n",
        "stocklist = stocklist['stock_name']"
      ],
      "execution_count": null,
      "outputs": []
    },
    {
      "cell_type": "code",
      "metadata": {
        "id": "acspX_DcaPEq",
        "outputId": "35f74ed8-a667-473b-bab6-d479944f3505"
      },
      "source": [
        "df = pd.DataFrame(columns= ['stockname', 'avg_profit', 'num_trades'])\n",
        "\n",
        "for stockname in stocklist:\n",
        "    df_all = pd.read_csv(stockname+\".csv\", names=('Dates', 'stockVWAP', 'futureVWAP', 'bidPrice', 'askPrice', 'total_value', 'total_size'))\n",
        "    df_train = df_all[:60000]\n",
        "    df_train_for_10min = df_train[df_train.index%10 == 0]\n",
        "    df_train_for_10min = df_train_for_10min.reset_index(drop = True)\n",
        "    df_final = df_train_for_10min\n",
        "    \n",
        "    spread = df_final['askPrice'].max() - df_final['bidPrice'].max()\n",
        "    \n",
        "    data = np.array([])\n",
        "    for i in range(555):\n",
        "        data = np.append(data, df_final.iloc[i,1] ) \n",
        "    for i in range(555, 6000):\n",
        "        data = np.append(data, np.mean(df_final.iloc[i-224:i+1])) \n",
        "        \n",
        "    df_new = pd.DataFrame(data)\n",
        "    \n",
        "    no_of_trades = 0\n",
        "    dev_sum = 0\n",
        "        \n",
        "    for i in range(6000):\n",
        "        dev = df_final.loc[i,'stockVWAP'] - 0.2 - spread - df_new.loc[i,0]\n",
        "        if dev > 0:\n",
        "            no_of_trades = no_of_trades + 1\n",
        "            dev_sum = dev + dev_sum\n",
        "    \n",
        "    if no_of_trades != 0:\n",
        "        dev_mean = dev_sum/no_of_trades \n",
        "        Total_Profit = dev_sum\n",
        "    \n",
        "    if no_of_trades == 0:\n",
        "        Total_Profit = 0\n",
        "        dev_mean = 0\n",
        "\n",
        "    s = pd.Series([stockname, dev_mean, no_of_trades],index= ['stockname', 'avg_profit', 'num_trades'])\n",
        "    df = df.append(s,ignore_index=True)\n",
        "    \n",
        "    print(stockname + \":\" + str(dev_mean) + \":\" + str(no_of_trades))\n",
        "df.to_csv(\"profits_5d.csv\")"
      ],
      "execution_count": null,
      "outputs": [
        {
          "output_type": "stream",
          "text": [
            "JPASSOCIAT:5.016536984719652:2735\n",
            "GMRINFRA:2.7918409757777165:3425\n",
            "SUZLON:6.883051017613518:2873\n",
            "IBREALEST:90.91997023356572:2837\n",
            "RELCAPITAL:144.92948345898628:3516\n",
            "DLF:32.61288502715453:3589\n",
            "IDFC:2.7357655771444493:2182\n",
            "SOUTHBANK:4.409493292890723:2574\n",
            "IDFCBANK:2.344608232483461:459\n",
            "BANKBARODA:8.316493094203663:1804\n",
            "MANAPPURAM:39.17742470415173:2658\n",
            "HINDALCO:16.73151188665617:3133\n",
            "TATASTEEL:52.06496797667124:3035\n",
            "JINDALSTEL:32.788274253795116:3586\n",
            "RCOM:4.026074559230177:1297\n",
            "HDIL:16.799887113085397:3011\n"
          ],
          "name": "stdout"
        },
        {
          "output_type": "error",
          "ename": "KeyboardInterrupt",
          "evalue": "",
          "traceback": [
            "\u001b[1;31m---------------------------------------------------------------------------\u001b[0m",
            "\u001b[1;31mKeyboardInterrupt\u001b[0m                         Traceback (most recent call last)",
            "\u001b[1;32m<ipython-input-2-05db1c012056>\u001b[0m in \u001b[0;36m<module>\u001b[1;34m\u001b[0m\n\u001b[0;32m     14\u001b[0m         \u001b[0mdata\u001b[0m \u001b[1;33m=\u001b[0m \u001b[0mnp\u001b[0m\u001b[1;33m.\u001b[0m\u001b[0mappend\u001b[0m\u001b[1;33m(\u001b[0m\u001b[0mdata\u001b[0m\u001b[1;33m,\u001b[0m \u001b[0mdf_final\u001b[0m\u001b[1;33m.\u001b[0m\u001b[0miloc\u001b[0m\u001b[1;33m[\u001b[0m\u001b[0mi\u001b[0m\u001b[1;33m,\u001b[0m\u001b[1;36m1\u001b[0m\u001b[1;33m]\u001b[0m \u001b[1;33m)\u001b[0m\u001b[1;33m\u001b[0m\u001b[1;33m\u001b[0m\u001b[0m\n\u001b[0;32m     15\u001b[0m     \u001b[1;32mfor\u001b[0m \u001b[0mi\u001b[0m \u001b[1;32min\u001b[0m \u001b[0mrange\u001b[0m\u001b[1;33m(\u001b[0m\u001b[1;36m555\u001b[0m\u001b[1;33m,\u001b[0m \u001b[1;36m6000\u001b[0m\u001b[1;33m)\u001b[0m\u001b[1;33m:\u001b[0m\u001b[1;33m\u001b[0m\u001b[1;33m\u001b[0m\u001b[0m\n\u001b[1;32m---> 16\u001b[1;33m         \u001b[0mdata\u001b[0m \u001b[1;33m=\u001b[0m \u001b[0mnp\u001b[0m\u001b[1;33m.\u001b[0m\u001b[0mappend\u001b[0m\u001b[1;33m(\u001b[0m\u001b[0mdata\u001b[0m\u001b[1;33m,\u001b[0m \u001b[0mnp\u001b[0m\u001b[1;33m.\u001b[0m\u001b[0mmean\u001b[0m\u001b[1;33m(\u001b[0m\u001b[0mdf_final\u001b[0m\u001b[1;33m.\u001b[0m\u001b[0miloc\u001b[0m\u001b[1;33m[\u001b[0m\u001b[0mi\u001b[0m\u001b[1;33m-\u001b[0m\u001b[1;36m224\u001b[0m\u001b[1;33m:\u001b[0m\u001b[0mi\u001b[0m\u001b[1;33m+\u001b[0m\u001b[1;36m1\u001b[0m\u001b[1;33m]\u001b[0m\u001b[1;33m)\u001b[0m\u001b[1;33m)\u001b[0m\u001b[1;33m\u001b[0m\u001b[1;33m\u001b[0m\u001b[0m\n\u001b[0m\u001b[0;32m     17\u001b[0m \u001b[1;33m\u001b[0m\u001b[0m\n\u001b[0;32m     18\u001b[0m     \u001b[0mdf_new\u001b[0m \u001b[1;33m=\u001b[0m \u001b[0mpd\u001b[0m\u001b[1;33m.\u001b[0m\u001b[0mDataFrame\u001b[0m\u001b[1;33m(\u001b[0m\u001b[0mdata\u001b[0m\u001b[1;33m)\u001b[0m\u001b[1;33m\u001b[0m\u001b[1;33m\u001b[0m\u001b[0m\n",
            "\u001b[1;32m<__array_function__ internals>\u001b[0m in \u001b[0;36mappend\u001b[1;34m(*args, **kwargs)\u001b[0m\n",
            "\u001b[1;32m~\\anaconda3\\lib\\site-packages\\numpy\\lib\\function_base.py\u001b[0m in \u001b[0;36mappend\u001b[1;34m(arr, values, axis)\u001b[0m\n\u001b[0;32m   4691\u001b[0m         \u001b[0mvalues\u001b[0m \u001b[1;33m=\u001b[0m \u001b[0mravel\u001b[0m\u001b[1;33m(\u001b[0m\u001b[0mvalues\u001b[0m\u001b[1;33m)\u001b[0m\u001b[1;33m\u001b[0m\u001b[1;33m\u001b[0m\u001b[0m\n\u001b[0;32m   4692\u001b[0m         \u001b[0maxis\u001b[0m \u001b[1;33m=\u001b[0m \u001b[0marr\u001b[0m\u001b[1;33m.\u001b[0m\u001b[0mndim\u001b[0m\u001b[1;33m-\u001b[0m\u001b[1;36m1\u001b[0m\u001b[1;33m\u001b[0m\u001b[1;33m\u001b[0m\u001b[0m\n\u001b[1;32m-> 4693\u001b[1;33m     \u001b[1;32mreturn\u001b[0m \u001b[0mconcatenate\u001b[0m\u001b[1;33m(\u001b[0m\u001b[1;33m(\u001b[0m\u001b[0marr\u001b[0m\u001b[1;33m,\u001b[0m \u001b[0mvalues\u001b[0m\u001b[1;33m)\u001b[0m\u001b[1;33m,\u001b[0m \u001b[0maxis\u001b[0m\u001b[1;33m=\u001b[0m\u001b[0maxis\u001b[0m\u001b[1;33m)\u001b[0m\u001b[1;33m\u001b[0m\u001b[1;33m\u001b[0m\u001b[0m\n\u001b[0m\u001b[0;32m   4694\u001b[0m \u001b[1;33m\u001b[0m\u001b[0m\n\u001b[0;32m   4695\u001b[0m \u001b[1;33m\u001b[0m\u001b[0m\n",
            "\u001b[1;32m<__array_function__ internals>\u001b[0m in \u001b[0;36mconcatenate\u001b[1;34m(*args, **kwargs)\u001b[0m\n",
            "\u001b[1;31mKeyboardInterrupt\u001b[0m: "
          ]
        }
      ]
    },
    {
      "cell_type": "code",
      "metadata": {
        "id": "u8HJTG1kaPEt"
      },
      "source": [
        ""
      ],
      "execution_count": null,
      "outputs": []
    }
  ]
}
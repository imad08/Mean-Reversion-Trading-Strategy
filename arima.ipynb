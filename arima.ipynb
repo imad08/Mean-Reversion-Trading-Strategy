{
  "nbformat": 4,
  "nbformat_minor": 0,
  "metadata": {
    "kernelspec": {
      "display_name": "Python 3",
      "language": "python",
      "name": "python3"
    },
    "language_info": {
      "codemirror_mode": {
        "name": "ipython",
        "version": 3
      },
      "file_extension": ".py",
      "mimetype": "text/x-python",
      "name": "python",
      "nbconvert_exporter": "python",
      "pygments_lexer": "ipython3",
      "version": "3.7.6"
    },
    "colab": {
      "name": "arima.ipynb",
      "provenance": []
    }
  },
  "cells": [
    {
      "cell_type": "code",
      "metadata": {
        "id": "Wty2LT08aQKC"
      },
      "source": [
        "import pandas as pd\n",
        "import numpy as np\n",
        "import os\n",
        "from statsmodels.tsa.arima_model import ARIMA\n",
        "#from pandas.core import datetools"
      ],
      "execution_count": null,
      "outputs": []
    },
    {
      "cell_type": "code",
      "metadata": {
        "id": "J49zZ0paaQKE",
        "outputId": "2e1d5158-09ac-4e41-fe6c-54224edc3f0d"
      },
      "source": [
        "df_stocks = pd.read_csv('stocks25.csv', index_col = 0)\n",
        "df_stocks = df_stocks[df_stocks['Time Frame'] == '2w'].reset_index()\n",
        "stocks = df_stocks['stockname']\n",
        "stocks"
      ],
      "execution_count": null,
      "outputs": [
        {
          "output_type": "execute_result",
          "data": {
            "text/plain": [
              "0        BEL\n",
              "1      CANBK\n",
              "2    CGPOWER\n",
              "Name: stockname, dtype: object"
            ]
          },
          "metadata": {
            "tags": []
          },
          "execution_count": 10
        }
      ]
    },
    {
      "cell_type": "code",
      "metadata": {
        "id": "hhTTKDMnaQKF",
        "outputId": "7f58a600-f01a-4fd0-ee22-7669b97e1a9e"
      },
      "source": [
        "predictions = pd.DataFrame(index = range(1000), columns = stocks)\n",
        "predictions"
      ],
      "execution_count": null,
      "outputs": [
        {
          "output_type": "execute_result",
          "data": {
            "text/html": [
              "<div>\n",
              "<style scoped>\n",
              "    .dataframe tbody tr th:only-of-type {\n",
              "        vertical-align: middle;\n",
              "    }\n",
              "\n",
              "    .dataframe tbody tr th {\n",
              "        vertical-align: top;\n",
              "    }\n",
              "\n",
              "    .dataframe thead th {\n",
              "        text-align: right;\n",
              "    }\n",
              "</style>\n",
              "<table border=\"1\" class=\"dataframe\">\n",
              "  <thead>\n",
              "    <tr style=\"text-align: right;\">\n",
              "      <th>stockname</th>\n",
              "      <th>BEL</th>\n",
              "      <th>CANBK</th>\n",
              "      <th>CGPOWER</th>\n",
              "    </tr>\n",
              "  </thead>\n",
              "  <tbody>\n",
              "    <tr>\n",
              "      <th>0</th>\n",
              "      <td>NaN</td>\n",
              "      <td>NaN</td>\n",
              "      <td>NaN</td>\n",
              "    </tr>\n",
              "    <tr>\n",
              "      <th>1</th>\n",
              "      <td>NaN</td>\n",
              "      <td>NaN</td>\n",
              "      <td>NaN</td>\n",
              "    </tr>\n",
              "    <tr>\n",
              "      <th>2</th>\n",
              "      <td>NaN</td>\n",
              "      <td>NaN</td>\n",
              "      <td>NaN</td>\n",
              "    </tr>\n",
              "    <tr>\n",
              "      <th>3</th>\n",
              "      <td>NaN</td>\n",
              "      <td>NaN</td>\n",
              "      <td>NaN</td>\n",
              "    </tr>\n",
              "    <tr>\n",
              "      <th>4</th>\n",
              "      <td>NaN</td>\n",
              "      <td>NaN</td>\n",
              "      <td>NaN</td>\n",
              "    </tr>\n",
              "    <tr>\n",
              "      <th>...</th>\n",
              "      <td>...</td>\n",
              "      <td>...</td>\n",
              "      <td>...</td>\n",
              "    </tr>\n",
              "    <tr>\n",
              "      <th>995</th>\n",
              "      <td>NaN</td>\n",
              "      <td>NaN</td>\n",
              "      <td>NaN</td>\n",
              "    </tr>\n",
              "    <tr>\n",
              "      <th>996</th>\n",
              "      <td>NaN</td>\n",
              "      <td>NaN</td>\n",
              "      <td>NaN</td>\n",
              "    </tr>\n",
              "    <tr>\n",
              "      <th>997</th>\n",
              "      <td>NaN</td>\n",
              "      <td>NaN</td>\n",
              "      <td>NaN</td>\n",
              "    </tr>\n",
              "    <tr>\n",
              "      <th>998</th>\n",
              "      <td>NaN</td>\n",
              "      <td>NaN</td>\n",
              "      <td>NaN</td>\n",
              "    </tr>\n",
              "    <tr>\n",
              "      <th>999</th>\n",
              "      <td>NaN</td>\n",
              "      <td>NaN</td>\n",
              "      <td>NaN</td>\n",
              "    </tr>\n",
              "  </tbody>\n",
              "</table>\n",
              "<p>1000 rows × 3 columns</p>\n",
              "</div>"
            ],
            "text/plain": [
              "stockname  BEL CANBK CGPOWER\n",
              "0          NaN   NaN     NaN\n",
              "1          NaN   NaN     NaN\n",
              "2          NaN   NaN     NaN\n",
              "3          NaN   NaN     NaN\n",
              "4          NaN   NaN     NaN\n",
              "..         ...   ...     ...\n",
              "995        NaN   NaN     NaN\n",
              "996        NaN   NaN     NaN\n",
              "997        NaN   NaN     NaN\n",
              "998        NaN   NaN     NaN\n",
              "999        NaN   NaN     NaN\n",
              "\n",
              "[1000 rows x 3 columns]"
            ]
          },
          "metadata": {
            "tags": []
          },
          "execution_count": 14
        }
      ]
    },
    {
      "cell_type": "code",
      "metadata": {
        "id": "LwDHGhhgaQKF"
      },
      "source": [
        "temp = 0\n",
        "predictions_all = None\n",
        "check_empty = 1"
      ],
      "execution_count": null,
      "outputs": []
    },
    {
      "cell_type": "code",
      "metadata": {
        "id": "KZ_2qx44aQKG",
        "outputId": "6486e773-0956-4194-def0-8443b5ea2f98"
      },
      "source": [
        "df = pd.read_csv(\"stock_data/\" + stocks[0] +\".csv\", names = ('Dates', 'stockVWAP', 'futureVWAP', 'bidPrice', 'askPrice', 'total_value', 'total_size'))\n",
        "rng = pd.date_range('2017-01-02 09:16:00', periods=1000, freq='60min')\n",
        "df = df.iloc[0:60000]\n",
        "df = df[df.index%60 == 0]\n",
        "df_new = pd.DataFrame(df['stockVWAP'].values, index = rng)\n",
        "\n",
        "for k in range(998, 1000):                        \n",
        "    df_scan = df_new.iloc[:k]\n",
        "    best_aic = np.inf\n",
        "    best_order = None\n",
        "    best_mdl = None\n",
        "    pq_rng = range(4) # [0,1,2,3]\n",
        "    d_rng = range(2) # [0,1]                        \n",
        "    for i in pq_rng :\n",
        "        for d in d_rng :\n",
        "            for j in pq_rng :  \n",
        "                try :\n",
        "                    tmp_mdl = smt.ARIMA(df_scan, order=(i,d,j)).fit(trend='nc', disp = 0)\n",
        "                    tmp_aic = tmp_mdl.aic\n",
        "                    if tmp_aic < best_aic :\n",
        "                        best_aic = tmp_aic\n",
        "                        best_order = (i, d, j)\n",
        "                        best_mdl = tmp_mdl\n",
        "                except :\n",
        "                    continue                                                             \n",
        "    if best_mdl is None:                                 \n",
        "        temp = temp + 1 \n",
        "        print(1)                        \n",
        "    else:\n",
        "        \n",
        "        predict = best_mdl.forecast(steps = 262, alpha = 0.01)[0]\n",
        "        mean = np.mean(predict)\n",
        "        threshold = np.std(predict)\n",
        "        if (df_scan.iloc[k - 1, 0] > mean + threshold):\n",
        "            predictions.iloc[k, 0] = 0\n",
        "        elif (df_scan.iloc[k - 1, 0] < mean - threshold):\n",
        "            predictions.iloc[k, 0] = 1 \n",
        "        else:\n",
        "            predictions.iloc[k, 0] = 0.5      \n",
        "                \n",
        "predictions_new = pd.DataFrame(predictions)\n",
        "print(predictions_new)\n",
        "predictions_new.to_csv(\"predictions_2w(14d).csv\")\n",
        "print(\"predictions_2w(14d).csv\" + \" Ready!!!\")"
      ],
      "execution_count": null,
      "outputs": [
        {
          "output_type": "stream",
          "text": [
            "1\n",
            "1\n",
            "stockname  BEL CANBK CGPOWER\n",
            "0          NaN   NaN     NaN\n",
            "1          NaN   NaN     NaN\n",
            "2          NaN   NaN     NaN\n",
            "3          NaN   NaN     NaN\n",
            "4          NaN   NaN     NaN\n",
            "..         ...   ...     ...\n",
            "995        NaN   NaN     NaN\n",
            "996        NaN   NaN     NaN\n",
            "997        NaN   NaN     NaN\n",
            "998        NaN   NaN     NaN\n",
            "999        NaN   NaN     NaN\n",
            "\n",
            "[1000 rows x 3 columns]\n",
            "predictions_2w(14d).csv Ready!!!\n"
          ],
          "name": "stdout"
        }
      ]
    },
    {
      "cell_type": "code",
      "metadata": {
        "id": "Ign-epLUaQKI"
      },
      "source": [
        ""
      ],
      "execution_count": null,
      "outputs": []
    }
  ]
}